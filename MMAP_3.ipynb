{
  "nbformat": 4,
  "nbformat_minor": 0,
  "metadata": {
    "colab": {
      "provenance": [],
      "authorship_tag": "ABX9TyNYHmag1KPazVwLDua01vZf",
      "include_colab_link": true
    },
    "kernelspec": {
      "name": "python3",
      "display_name": "Python 3"
    },
    "language_info": {
      "name": "python"
    }
  },
  "cells": [
    {
      "cell_type": "markdown",
      "metadata": {
        "id": "view-in-github",
        "colab_type": "text"
      },
      "source": [
        "<a href=\"https://colab.research.google.com/github/DaniilAszn/Math_modeling_2_course/blob/main/MMAP_3.ipynb\" target=\"_parent\"><img src=\"https://colab.research.google.com/assets/colab-badge.svg\" alt=\"Open In Colab\"/></a>"
      ]
    },
    {
      "cell_type": "markdown",
      "source": [
        "# **Задание 1**"
      ],
      "metadata": {
        "id": "hTkvcFpzhnhT"
      }
    },
    {
      "cell_type": "markdown",
      "source": [
        "В соответствии с практикой 1 реализовать дикретизацию интегрального уравнения Фредгольма 2-го рода с вырожденным ядром на отрезке с произвольным количеством точек коллокации N:\n",
        "\n",
        "$$u(x) + \\int \\limits_{0}^{1} xy \\cdot u(y) dy = x$$"
      ],
      "metadata": {
        "id": "BhAtvRFe6JCf"
      }
    },
    {
      "cell_type": "markdown",
      "source": [
        "Решение описано ранее"
      ],
      "metadata": {
        "id": "WZJGdF7G6LnG"
      }
    },
    {
      "cell_type": "markdown",
      "source": [
        "# **Задание 2**"
      ],
      "metadata": {
        "id": "LADOvgmd6NrV"
      }
    },
    {
      "cell_type": "markdown",
      "source": [
        "Реализовать на любом языке программирования двухшаговый итерационный метод градиентного спуска и протестировать его на решении практики 1"
      ],
      "metadata": {
        "id": "R0_8zBX66OVG"
      }
    },
    {
      "cell_type": "markdown",
      "source": [
        "Метод двухшагового градиентного спуска:\n",
        "\n",
        "1.\n",
        "$$u_{1} = u_0 - \\frac{{\\lVert A^Tr_0 \\rVert}^2}{{\\lVert AA^Tr_0 \\rVert}^2} \\cdot A^Tr_0$$\n",
        "$$r_0 = Au_0 - f$$\n",
        "\n",
        "2.\n",
        "\\begin{equation*}\n",
        "    \\begin{cases}\n",
        "        \\alpha_k \\cdot {\\lVert \\Delta r_k \\rVert}^2 + \\gamma_k \\cdot {\\lVert A^Tr_k \\rVert}^2 = 0\n",
        "        \\\\\n",
        "        \\alpha_k \\cdot {\\lVert A^Tr_k \\rVert}^2 + \\gamma_k \\cdot {\\lVert AA^Tr_k \\rVert}^2 = {\\lVert A^Tr_k \\rVert}^2\n",
        "    \\end{cases}\n",
        "\\end{equation*}\n",
        "$$r_k = Au_k - f$$\n",
        "\n",
        "$$u_{k+1} = u_k - \\alpha_k \\cdot (u_k - u_{k-1}) - \\gamma_k \\cdot A^Tr_k$$\n",
        "\n",
        "3.\n",
        "$$\\frac{\\lVert u_k - u_{k-1} \\rVert}{\\lVert f \\rVert} < \\varepsilon$$"
      ],
      "metadata": {
        "id": "haJE5r5w6TTW"
      }
    },
    {
      "cell_type": "code",
      "execution_count": null,
      "metadata": {
        "id": "_m8bv0MzhkFt"
      },
      "outputs": [],
      "source": [
        "import numpy as np\n",
        "import pandas as pd\n",
        "import matplotlib.pyplot as plt\n",
        "plt.style.use(\"ggplot\")"
      ]
    },
    {
      "cell_type": "code",
      "source": [
        "N = int(input(\"Введите значение N: \"))\n",
        "a, b = 0, 1\n",
        "h = (b - a) / N"
      ],
      "metadata": {
        "colab": {
          "base_uri": "https://localhost:8080/"
        },
        "id": "jwfFstft_wQH",
        "outputId": "15c171f1-40bd-4c01-fbf2-d9bbe4e8610c"
      },
      "execution_count": null,
      "outputs": [
        {
          "name": "stdout",
          "output_type": "stream",
          "text": [
            "Введите значение N: 7\n"
          ]
        }
      ]
    },
    {
      "cell_type": "code",
      "source": [
        "def x(i):\n",
        "    return i * h + h / 2 + a\n",
        "\n",
        "\n",
        "def y(j):\n",
        "    return j * h + h / 2 + a\n",
        "\n",
        "\n",
        "def A_elements(i, j):\n",
        "    return (x(i) * y(j) * h) + 1 * (i == j)\n",
        "\n",
        "\n",
        "def f_elements(i, j):\n",
        "    return x(i)"
      ],
      "metadata": {
        "id": "Q76Y4osF_0Oi"
      },
      "execution_count": null,
      "outputs": []
    },
    {
      "cell_type": "code",
      "source": [
        "rows, cols = N, N\n",
        "\n",
        "A = np.fromfunction(A_elements, (rows, cols))"
      ],
      "metadata": {
        "id": "Bof5Zvml_3Rv"
      },
      "execution_count": null,
      "outputs": []
    },
    {
      "cell_type": "code",
      "source": [
        "rows, cols = N, 1\n",
        "\n",
        "f = np.fromfunction(f_elements, (rows, cols))"
      ],
      "metadata": {
        "id": "ifhfK6zD_490"
      },
      "execution_count": null,
      "outputs": []
    },
    {
      "cell_type": "code",
      "source": [
        "# Начальное значение вектора u\n",
        "u_old = np.array([[0.]] * N)\n",
        "\n",
        "# Критерий останова\n",
        "eps = 1e-10"
      ],
      "metadata": {
        "id": "FMuOuN5I__WF"
      },
      "execution_count": null,
      "outputs": []
    },
    {
      "cell_type": "code",
      "source": [
        "def double_step_gradient_descent(u_old, A, f, r, eps):\n",
        "    steps = 1\n",
        "\n",
        "    # Cтартовые значения u и r\n",
        "    u_0 = u_old\n",
        "    r_0 = r\n",
        "\n",
        "    # Подготовка к первому шагу\n",
        "    AT = np.matrix.transpose(A) # не обязательно\n",
        "    AT_r = AT @ r_0\n",
        "    up = np.linalg.norm(AT_r) ** 2\n",
        "    down = np.linalg.norm(A @ AT_r) ** 2\n",
        "\n",
        "    u_1 = u_0 - (up / down) * (AT @ r_0) # делаем шаг для определения u_1\n",
        "\n",
        "    # После определения u_1 переходим к основному шагу алгоритма\n",
        "    r_1 = A @ u_1 - f\n",
        "    AT_r = AT @ r_1\n",
        "\n",
        "    Mat = np.array([[np.linalg.norm(r_1 - r_0) ** 2, np.linalg.norm(AT_r) ** 2],\n",
        "                    [np.linalg.norm(AT_r) ** 2, np.linalg.norm(A @ AT_r) ** 2]])\n",
        "    Vec = np.array([0.,\n",
        "                    np.linalg.norm(AT_r) ** 2])\n",
        "    Ans = np.linalg.pinv(Mat) @ Vec\n",
        "    alpha = Ans[0]\n",
        "    gamma = Ans[1]\n",
        "\n",
        "    u_2 = u_1 - alpha * (u_1 - u_0) - gamma * AT_r # второй шаг (основной)\n",
        "\n",
        "    norm_diff_u = np.linalg.norm(u_2 - u_1)\n",
        "    norm_f = np.linalg.norm(f)\n",
        "\n",
        "    if (norm_diff_u / norm_f) >= eps:\n",
        "        while (norm_diff_u / norm_f) >= eps:\n",
        "            steps += 1\n",
        "\n",
        "            u_0 = u_1\n",
        "            u_1 = u_2\n",
        "\n",
        "            r_0 = r_1\n",
        "            r_1 = A @ u_1 - f\n",
        "            AT_r = AT @ r_1\n",
        "\n",
        "            Mat = np.array([[np.linalg.norm(r_1 - r_0) ** 2, np.linalg.norm(AT_r) ** 2],\n",
        "                            [np.linalg.norm(AT_r) ** 2, np.linalg.norm(A @ AT_r) ** 2]])\n",
        "            Vec = np.array([0.,\n",
        "                            np.linalg.norm(AT_r) ** 2])\n",
        "            Ans = np.linalg.pinv(Mat) @ Vec\n",
        "            alpha = Ans[0]\n",
        "            gamma = Ans[1]\n",
        "\n",
        "            u_2 = u_1 - alpha * (u_1 - u_0) - gamma * AT_r\n",
        "\n",
        "            norm_diff_u = np.linalg.norm(u_2 - u_1)\n",
        "            # norm_f = np.linalg.norm(f)\n",
        "    else:\n",
        "        pass\n",
        "\n",
        "    return u_2, steps\n",
        "\n",
        "# Для двухшагового градиентного спуска\n",
        "r = A @ u_old - f\n",
        "\n",
        "u_DSGD, count_steps_DSGD = double_step_gradient_descent(u_old, A, f, r, eps)"
      ],
      "metadata": {
        "id": "p6Z7TYztAA2h"
      },
      "execution_count": null,
      "outputs": []
    },
    {
      "cell_type": "code",
      "source": [
        "def error(Arr_num, Arr_ana):\n",
        "    return np.sqrt(np.sum((Arr_ana - Arr_num) ** 2) / np.sum(Arr_ana ** 2))\n",
        "\n",
        "\n",
        "def u_ana(x):\n",
        "    return (3 / 4) * x\n",
        "\n",
        "\n",
        "x_values = [x(i) for i in range(N)]\n",
        "u_ana_values = np.array([u_ana(i) for i in x_values]).reshape(N, 1)"
      ],
      "metadata": {
        "id": "rSKRKjfrAxBD"
      },
      "execution_count": null,
      "outputs": []
    },
    {
      "cell_type": "code",
      "source": [
        "print(f\"delta_DSGD = {error(u_DSGD, u_ana_values)}\")\n",
        "print(f\"Число шагов: {count_steps_DSGD}\")"
      ],
      "metadata": {
        "colab": {
          "base_uri": "https://localhost:8080/"
        },
        "id": "tod3blseOnXQ",
        "outputId": "dbb1d5df-e88b-4386-c0b8-c8d690a8847c"
      },
      "execution_count": null,
      "outputs": [
        {
          "output_type": "stream",
          "name": "stdout",
          "text": [
            "delta_DSGD = 0.0012771392081739824\n",
            "Число шагов: 1\n"
          ]
        }
      ]
    },
    {
      "cell_type": "code",
      "source": [
        "plt.plot(u_DSGD, c='red', label='Численное решение')\n",
        "plt.plot(u_ana_values, c='green', label='Аналитическое решение')\n",
        "plt.title('Графики численного и аналитического решений интура')\n",
        "plt.xlabel('x')\n",
        "plt.ylabel('u(x)')\n",
        "plt.legend()"
      ],
      "metadata": {
        "colab": {
          "base_uri": "https://localhost:8080/",
          "height": 495
        },
        "id": "DTsQlRkROxEn",
        "outputId": "d30f8905-9495-43dc-aa6a-dfd5f6bc8759"
      },
      "execution_count": null,
      "outputs": [
        {
          "output_type": "execute_result",
          "data": {
            "text/plain": [
              "<matplotlib.legend.Legend at 0x7e430c146740>"
            ]
          },
          "metadata": {},
          "execution_count": 10
        },
        {
          "output_type": "display_data",
          "data": {
            "text/plain": [
              "<Figure size 640x480 with 1 Axes>"
            ],
            "image/png": "[encoded data removed]"
          },
          "metadata": {}
        }
      ]
    },
    {
      "cell_type": "markdown",
      "source": [
        "# **Задание 3**"
      ],
      "metadata": {
        "id": "tnfH9BpVO1vH"
      }
    },
    {
      "cell_type": "markdown",
      "source": [
        "При одинаковых значениях $\\varepsilon$ сравнить эффективность и качество сходимости итерационных методов: метода простой итерации, градиентного спуска и двухшагового метода градиентного спуска."
      ],
      "metadata": {
        "id": "Uf87eL1eO2c2"
      }
    },
    {
      "cell_type": "markdown",
      "source": [
        "### Метод простой итерации:"
      ],
      "metadata": {
        "id": "iR4fPbntPPWu"
      }
    },
    {
      "cell_type": "code",
      "source": [
        "def simple_iteration(u_old, B, f, eps):\n",
        "    steps = 1\n",
        "\n",
        "    u_new = B @ u_old + f\n",
        "\n",
        "    norm_diff_u = np.linalg.norm(u_new - u_old)\n",
        "    norm_f = np.linalg.norm(f)\n",
        "\n",
        "    if (norm_diff_u / norm_f) >= eps:\n",
        "        while (norm_diff_u / norm_f) >= eps:\n",
        "            steps += 1\n",
        "\n",
        "            u_old = u_new\n",
        "\n",
        "            u_new = B @ u_old + f\n",
        "\n",
        "            norm_diff_u = np.linalg.norm(u_new - u_old)\n",
        "            # norm_f = np.linalg.norm(f)\n",
        "    else:\n",
        "        pass\n",
        "\n",
        "    return u_new, steps\n",
        "\n",
        "# Для МПИ\n",
        "E = np.eye(N)\n",
        "B = E - A\n",
        "\n",
        "u_MSI, count_steps_MSI = simple_iteration(u_old, B, f, eps)"
      ],
      "metadata": {
        "id": "YO5pS6rGPACX"
      },
      "execution_count": null,
      "outputs": []
    },
    {
      "cell_type": "code",
      "source": [
        "print(f\"delta_MSI = {error(u_MSI, u_ana_values)}\")\n",
        "print(f\"Число шагов: {count_steps_MSI}\")"
      ],
      "metadata": {
        "colab": {
          "base_uri": "https://localhost:8080/"
        },
        "id": "OIbZmh06PF5t",
        "outputId": "4176af00-1ae8-4564-df8f-c31db7d2a0af"
      },
      "execution_count": null,
      "outputs": [
        {
          "output_type": "stream",
          "name": "stdout",
          "text": [
            "delta_MSI = 0.0012771391796625837\n",
            "Число шагов: 22\n"
          ]
        }
      ]
    },
    {
      "cell_type": "markdown",
      "source": [
        "### Градиентный спуск:"
      ],
      "metadata": {
        "id": "nnQ3MJs-PR99"
      }
    },
    {
      "cell_type": "code",
      "source": [
        "def gradient_descent(u_old, A, f, r, eps):\n",
        "    steps = 1\n",
        "\n",
        "    AT = np.matrix.transpose(A) # не обязательно\n",
        "    AT_r = AT @ r\n",
        "    up = np.linalg.norm(AT_r) ** 2\n",
        "    down = np.linalg.norm(A @ AT_r) ** 2\n",
        "\n",
        "    u_new = u_old - (up / down) * (AT @ r)\n",
        "\n",
        "    norm_diff_u = np.linalg.norm(u_new - u_old)\n",
        "    norm_f = np.linalg.norm(f)\n",
        "\n",
        "    if (norm_diff_u / norm_f) >= eps:\n",
        "        while (norm_diff_u / norm_f) >= eps:\n",
        "            steps += 1\n",
        "\n",
        "            u_old = u_new\n",
        "            r = A @ u_old - f\n",
        "            AT_r = AT @ r\n",
        "            up = round(np.linalg.norm(AT_r) ** 2, 30)\n",
        "            down = round(np.linalg.norm(A @ AT_r) ** 2, 30)\n",
        "\n",
        "            if down != 0:\n",
        "                u_new = u_old - (up / down) * (AT @ r)\n",
        "\n",
        "                norm_diff_u = np.linalg.norm(u_new - u_old)\n",
        "            else:\n",
        "                break\n",
        "    else:\n",
        "        pass\n",
        "\n",
        "    return u_new, steps\n",
        "\n",
        "# Для градиентного спуска\n",
        "r = A @ u_old - f\n",
        "\n",
        "u_GD, count_steps_GD = gradient_descent(u_old, A, f, r, eps)"
      ],
      "metadata": {
        "id": "-FaZehyrPYlN"
      },
      "execution_count": null,
      "outputs": []
    },
    {
      "cell_type": "code",
      "source": [
        "print(f\"delta_GD = {error(u_GD, u_ana_values)}\")\n",
        "print(f\"Число шагов: {count_steps_GD}\")"
      ],
      "metadata": {
        "colab": {
          "base_uri": "https://localhost:8080/"
        },
        "id": "0rnv-LbdPaj1",
        "outputId": "cfae3c59-bf18-4a7b-c1e3-4272eb22e32c"
      },
      "execution_count": null,
      "outputs": [
        {
          "output_type": "stream",
          "name": "stdout",
          "text": [
            "delta_GD = 0.0012771392081739824\n",
            "Число шагов: 2\n"
          ]
        }
      ]
    },
    {
      "cell_type": "code",
      "source": [
        "Methods_table = {'DSGD': (error(u_DSGD, u_ana_values), count_steps_DSGD),\n",
        "                 'GD': (error(u_GD, u_ana_values), count_steps_GD),\n",
        "                 'MSI': (error(u_MSI, u_ana_values), count_steps_MSI)}\n",
        "\n",
        "print(Methods_table)\n",
        "\n",
        "Methods_df = pd.DataFrame.from_dict(Methods_table)\n",
        "print(Methods_df)"
      ],
      "metadata": {
        "colab": {
          "base_uri": "https://localhost:8080/"
        },
        "id": "QcPuXB5tPJO1",
        "outputId": "325df0b3-d1a1-44c6-cbff-fd5ce07a318c"
      },
      "execution_count": null,
      "outputs": [
        {
          "output_type": "stream",
          "name": "stdout",
          "text": [
            "{'DSGD': (0.0012771392081739824, 1), 'GD': (0.0012771392081739824, 2), 'MSI': (0.0012771391796625837, 22)}\n",
            "       DSGD        GD        MSI\n",
            "0  0.001277  0.001277   0.001277\n",
            "1  1.000000  2.000000  22.000000\n"
          ]
        }
      ]
    },
    {
      "cell_type": "code",
      "source": [
        "plt.plot(u_DSGD, c='orange', label='DSGD')\n",
        "plt.plot(u_GD, c='red', label='GD')\n",
        "plt.plot(u_MSI, c='purple', label='MSI')\n",
        "plt.plot(u_ana_values, c='green', label='Аналитическое решение')\n",
        "plt.title('Графики численного и аналитического решений интура')\n",
        "plt.xlabel('x')\n",
        "plt.ylabel('u(x)')\n",
        "plt.legend()"
      ],
      "metadata": {
        "colab": {
          "base_uri": "https://localhost:8080/",
          "height": 495
        },
        "id": "m03V-qYTRJyy",
        "outputId": "4ec98d4c-d809-44ea-9a25-2dd6b072a57d"
      },
      "execution_count": null,
      "outputs": [
        {
          "output_type": "execute_result",
          "data": {
            "text/plain": [
              "<matplotlib.legend.Legend at 0x7e42fc767d30>"
            ]
          },
          "metadata": {},
          "execution_count": 16
        },
        {
          "output_type": "display_data",
          "data": {
            "text/plain": [
              "<Figure size 640x480 with 1 Axes>"
            ],
            "image/png": "[encoded data removed]"
          },
          "metadata": {}
        }
      ]
    }
  ]
}