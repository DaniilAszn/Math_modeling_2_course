{
  "nbformat": 4,
  "nbformat_minor": 0,
  "metadata": {
    "colab": {
      "provenance": [],
      "authorship_tag": "ABX9TyP/UITzCVMsZbgg+ME7CfBW",
      "include_colab_link": true
    },
    "kernelspec": {
      "name": "python3",
      "display_name": "Python 3"
    },
    "language_info": {
      "name": "python"
    }
  },
  "cells": [
    {
      "cell_type": "markdown",
      "metadata": {
        "id": "view-in-github",
        "colab_type": "text"
      },
      "source": [
        "<a href=\"https://colab.research.google.com/github/DaniilAszn/Math_modeling_2_course/blob/main/MMAP_1.ipynb\" target=\"_parent\"><img src=\"https://colab.research.google.com/assets/colab-badge.svg\" alt=\"Open In Colab\"/></a>"
      ]
    },
    {
      "cell_type": "markdown",
      "source": [
        "# **Задание 1**"
      ],
      "metadata": {
        "id": "CiaKjF4NRr_3"
      }
    },
    {
      "cell_type": "markdown",
      "source": [
        "Решить поставленное интегральное уравнение\n",
        "$$u(x) + \\int \\limits_{0}^{1} xyu(y)dy = x$$\n",
        " аналитически, применив метод решения интегрального уравнения с вырожденным ядром"
      ],
      "metadata": {
        "id": "xb2XAsSuRr03"
      }
    },
    {
      "cell_type": "markdown",
      "source": [
        "Решение:\n",
        "\n",
        "$$u(x) + \\int\\limits_{0}^{1} xyu(y) dy = x$$\n",
        "\n",
        "$$u(x) + x\\int\\limits_{0}^{1} yu(y) dy = x$$\n",
        "\n",
        "$$u(x) + x \\cdot C = x, C = \\int\\limits_{0}^{1} yu(y) dy$$\n",
        "\n",
        "$$u(x) = (1 - C) \\cdot x$$\n",
        "\n",
        "$$(1 - C) \\cdot x + \\int\\limits_{0}^{1} xy[(1 - C) \\cdot y] dy = x$$\n",
        "\n",
        "$$(1 - C) \\cdot x + (1 - C) \\cdot x \\int\\limits_{0}^{1} y^2 dy = x$$\n",
        "\n",
        "$$(1 - C) \\cdot x + (1 - C) \\cdot x \\cdot \\frac{y^3}{3} |_{0}^{1} = x$$\n",
        "\n",
        "$$(1 - C) \\cdot x + (1 - C) \\cdot x \\cdot \\frac{1}{3} = x$$\n",
        "\n",
        "$$(1 - C) \\cdot (x + \\frac{x}{3}) = x$$\n",
        "\n",
        "$$1 - C = \\frac{x}{x + \\frac{x}{3}} = \\frac{x}{x} \\cdot \\frac{1}{1 + \\frac{1}{3}} = \\frac{1}{1 + \\frac{1}{3}}$$\n",
        "\n",
        "$$C = 1 - \\frac{1}{1 + \\frac{1}{3}} = \\frac{1}{4}$$\n",
        "\n",
        "$$u(x) = (1 - \\frac{1}{4}) \\cdot x = \\frac{3}{4}x$$"
      ],
      "metadata": {
        "id": "znw9SY1US7FN"
      }
    },
    {
      "cell_type": "markdown",
      "source": [
        "# **Задание 2**"
      ],
      "metadata": {
        "id": "j2kGcz0NW4AC"
      }
    },
    {
      "cell_type": "markdown",
      "source": [
        "Решить данное уравнение численно с числом неизвестных N=3 с помощью метода коллокаций"
      ],
      "metadata": {
        "id": "Qqzu1ugEX__O"
      }
    },
    {
      "cell_type": "markdown",
      "source": [
        "$$u(x_i) + \\sum_{j=0}^{N-1} x_i y_j u(y_j) h = x_i$$\n",
        "\n",
        "$$x_i = i \\cdot h + \\frac{h}{2} + a, y_j = j \\cdot h + \\frac{h}{2} + a, h = \\frac{b-a}{N}$$\n",
        "\n",
        "$$N=3, a=0, b=1$$\n",
        "\n",
        "$$i,j=0,_\\cdots,N-1$$\n",
        "\n",
        "$$x_0=\\frac{1}{6}, x_1=\\frac{3}{6}, x_2=\\frac{5}{6}$$\n",
        "\n",
        "$$y_0=\\frac{1}{6}, y_1=\\frac{3}{6}, y_2=\\frac{5}{6}$$\n",
        "\n",
        "Составляем СЛАУ:\n",
        "\n",
        "$$Au=f$$\n",
        "\n",
        "\\begin{equation*}\n",
        "    \\begin{cases}\n",
        "        u(x_0) + \\frac{1}{6} \\cdot \\frac{1}{6} \\cdot u(y_0) \\cdot \\frac{1}{3} + \\frac{1}{6} \\cdot \\frac{3}{6} \\cdot u(y_1) \\cdot \\frac{1}{3} + \\frac{1}{6} \\cdot \\frac{5}{6} \\cdot u(y_2) \\cdot \\frac{1}{3} = \\frac{1}{6}  \n",
        "        \\\\\n",
        "        u(x_1) + \\frac{3}{6} \\cdot \\frac{1}{6} \\cdot u(y_0) \\cdot \\frac{1}{3} + \\frac{3}{6} \\cdot \\frac{3}{6} \\cdot u(y_1) \\cdot \\frac{1}{3} + \\frac{3}{6} \\cdot \\frac{5}{6} \\cdot u(y_2) \\cdot \\frac{1}{3} = \\frac{3}{6}\n",
        "        \\\\\n",
        "        u(x_2) + \\frac{5}{6} \\cdot \\frac{1}{6} \\cdot u(y_0) \\cdot \\frac{1}{3} + \\frac{5}{6} \\cdot \\frac{3}{6} \\cdot u(y_1) \\cdot \\frac{1}{3} + \\frac{5}{6} \\cdot \\frac{5}{6} \\cdot u(y_2) \\cdot \\frac{1}{3} = \\frac{5}{6}  \n",
        "    \\end{cases}\n",
        "\\end{equation*}\n",
        "\n",
        "\\begin{equation*}\n",
        "    \\begin{cases}\n",
        "         u(y_0) \\cdot (1 + \\frac{1}{6} \\cdot \\frac{1}{6} \\cdot \\frac{1}{3}) + \\frac{1}{6} \\cdot \\frac{3}{6} \\cdot u(y_1) \\cdot \\frac{1}{3} + \\frac{1}{6} \\cdot \\frac{5}{6} \\cdot u(y_2) \\cdot \\frac{1}{3} = \\frac{1}{6}  \n",
        "        \\\\\n",
        "        \\frac{3}{6} \\cdot \\frac{1}{6} \\cdot u(y_0) \\cdot \\frac{1}{3} + u(y_1) \\cdot (1 + \\frac{3}{6} \\cdot \\frac{3}{6} \\cdot \\frac{1}{3}) + \\frac{3}{6} \\cdot \\frac{5}{6} \\cdot u(y_2) \\cdot \\frac{1}{3} = \\frac{3}{6}\n",
        "        \\\\\n",
        "        \\frac{5}{6} \\cdot \\frac{1}{6} \\cdot u(y_0) \\cdot \\frac{1}{3} + \\frac{5}{6} \\cdot \\frac{3}{6} \\cdot u(y_1) \\cdot \\frac{1}{3} + u(y_2) \\cdot (1 + \\frac{5}{6} \\cdot \\frac{5}{6} \\cdot \\frac{1}{3}) = \\frac{5}{6}  \n",
        "    \\end{cases}\n",
        "\\end{equation*}\n",
        "\n",
        "Вид матрицы A:\n",
        "\\begin{pmatrix}\n",
        "    \\frac{109}{108} & \\frac{1}{36} & \\frac{5}{108}\n",
        "    \\\\\n",
        "    \\frac{1}{36} & \\frac{13}{12} & \\frac{5}{36}\n",
        "    \\\\\n",
        "    \\frac{5}{108} & \\frac{5}{36} & \\frac{133}{108}\n",
        "\\end{pmatrix}\n",
        "\n",
        "Вид вектора f:\n",
        "\\begin{pmatrix}\n",
        "    \\frac{1}{6}\n",
        "    \\\\\n",
        "    \\frac{3}{6}\n",
        "    \\\\\n",
        "    \\frac{5}{6}\n",
        "\\end{pmatrix}\n",
        "\n"
      ],
      "metadata": {
        "id": "h_FXfV1DX-em"
      }
    },
    {
      "cell_type": "markdown",
      "source": [
        "Для аналитического решения будем исспользовать метод Гаусса:\n",
        "\n"
      ],
      "metadata": {
        "id": "iO_VYEM7m4uS"
      }
    },
    {
      "cell_type": "markdown",
      "source": [
        "Запишем матрицу (A|f):\n",
        "\n",
        "\\begin{pmatrix}\n",
        "    \\frac{109}{108} & \\frac{1}{36} & \\frac{5}{108} & \\frac{1}{6}\n",
        "    \\\\\n",
        "    \\frac{1}{36} & \\frac{13}{12} & \\frac{5}{36} & \\frac{3}{6}\n",
        "    \\\\\n",
        "    \\frac{5}{108} & \\frac{5}{36} & \\frac{133}{108} & \\frac{5}{6}\n",
        "\\end{pmatrix}\n",
        "\n",
        "\n",
        "$(2): (2) \\cdot \\frac{109}{3} - (1)$\n",
        "\n",
        "$(3): (3) \\cdot \\frac{109}{5} - (1)$\n",
        "\n",
        "\\begin{pmatrix}\n",
        "    \\frac{109}{108} & \\frac{1}{36} & \\frac{5}{108} & \\frac{1}{6}\n",
        "    \\\\\n",
        "    0 & \\frac{118}{3} & 5 & 18\n",
        "    \\\\\n",
        "    0 & 3 & 26,8 & \\frac{108}{6}\n",
        "\\end{pmatrix}\n",
        "\n",
        "\n",
        "$(3): (3) \\cdot \\frac{118}{9} - (2)$\n",
        "\n",
        "\\begin{pmatrix}\n",
        "    \\frac{109}{108} & \\frac{1}{36} & \\frac{5}{108} & \\frac{1}{6}\n",
        "    \\\\\n",
        "    0 & \\frac{118}{3} & 5 & 18\n",
        "    \\\\\n",
        "    0 & 0 & \\frac{15587}{45} & 218\n",
        "\\end{pmatrix}\n",
        "\n",
        "\n",
        "Обратным ходом находим значения u:\n",
        "\n",
        "$$u(y_2) = 218 : \\frac{15587}{45} = \\frac{90}{143}$$\n",
        "\n",
        "$$u(y_1) = (18 - 5 \\cdot \\frac{90}{143}) : \\frac{118}{3} = \\frac{54}{143}$$\n",
        "\n",
        "$$u(y_0) = (\\frac{1}{6} - \\frac{5}{108} \\cdot \\frac{90}{143} - \\frac{1}{36} \\cdot \\frac{54}{143}) : \\frac{109}{108} = \\frac{18}{143}$$\n",
        "\n",
        "\n",
        "Вид вектора u:\n",
        "\\begin{pmatrix}\n",
        "    \\frac{18}{143}\n",
        "    \\\\\n",
        "    \\frac{54}{143}\n",
        "    \\\\\n",
        "    \\frac{90}{143}\n",
        "\\end{pmatrix}"
      ],
      "metadata": {
        "id": "ZBHbL-BFrLpY"
      }
    },
    {
      "cell_type": "markdown",
      "source": [
        "Для численного решения будем использовать метод простой итерации (МПИ):\n",
        "1. $B = E - A$\n",
        "2. $u_k = Bu_{k-1} + f$\n",
        "3. $\\frac{\\lVert u_k - u_{k-1} \\rVert}{\\lVert f \\rVert} < \\varepsilon$"
      ],
      "metadata": {
        "id": "vf4eT3jMgeJ6"
      }
    },
    {
      "cell_type": "code",
      "source": [
        "# Библиотеки для матеши\n",
        "\n",
        "import numpy as np\n",
        "import matplotlib.pyplot as plt\n",
        "plt.style.use(\"ggplot\")"
      ],
      "metadata": {
        "id": "tVBP5MW6o-N1"
      },
      "execution_count": null,
      "outputs": []
    },
    {
      "cell_type": "code",
      "source": [
        "# Начальные значения\n",
        "\n",
        "N = 3\n",
        "a, b = 0, 1\n",
        "h = (b - a) / N"
      ],
      "metadata": {
        "id": "rX8sVRhRpLxM"
      },
      "execution_count": null,
      "outputs": []
    },
    {
      "cell_type": "code",
      "source": [
        "# Задаём правила вычисления\n",
        "\n",
        "# Вычисление иксов\n",
        "def x(i):\n",
        "    return i * h + h / 2 + a\n",
        "\n",
        "# Вычисление игреков\n",
        "def y(j):\n",
        "    return j * h + h / 2 + a\n",
        "\n",
        "# Элементы матрицы A\n",
        "def A_elements(i, j):\n",
        "    return (x(i) * y(j) * h) + 1 * (i == j)\n",
        "\n",
        "# Компоненты вектора f\n",
        "def f_elements(i, j):\n",
        "    return x(i)"
      ],
      "metadata": {
        "id": "qSxg53UXqMkt"
      },
      "execution_count": null,
      "outputs": []
    },
    {
      "cell_type": "code",
      "source": [
        "# Создание матрицы А\n",
        "\n",
        "# Размер матрицы\n",
        "rows, cols = 3, 3\n",
        "\n",
        "# Создание матрицы с использованием формулы\n",
        "A = np.fromfunction(A_elements, (rows, cols))"
      ],
      "metadata": {
        "id": "8DkXVRlHocYC"
      },
      "execution_count": null,
      "outputs": []
    },
    {
      "cell_type": "code",
      "source": [
        "print(\"Матрица A:\")\n",
        "print(A)"
      ],
      "metadata": {
        "colab": {
          "base_uri": "https://localhost:8080/"
        },
        "id": "WZW6Us4sqjLa",
        "outputId": "415bec2a-9f07-4261-c8ac-c7b5527dc81e"
      },
      "execution_count": null,
      "outputs": [
        {
          "output_type": "stream",
          "name": "stdout",
          "text": [
            "Матрица A:\n",
            "[[1.00925926 0.02777778 0.0462963 ]\n",
            " [0.02777778 1.08333333 0.13888889]\n",
            " [0.0462963  0.13888889 1.23148148]]\n"
          ]
        }
      ]
    },
    {
      "cell_type": "code",
      "source": [
        "# Создание вектора f\n",
        "\n",
        "# Размер вектора\n",
        "rows, cols = 3, 1\n",
        "\n",
        "# Создание матрицы с использованием формулы\n",
        "f = np.fromfunction(f_elements, (rows, cols))"
      ],
      "metadata": {
        "id": "kAaZCBrEq4Ut"
      },
      "execution_count": null,
      "outputs": []
    },
    {
      "cell_type": "code",
      "source": [
        "print(\"Вектор f:\")\n",
        "print(f)"
      ],
      "metadata": {
        "colab": {
          "base_uri": "https://localhost:8080/"
        },
        "id": "Ed835WdIrdNP",
        "outputId": "4aff83f7-3d3a-47b9-fd4c-e3bfe45ee9c8"
      },
      "execution_count": null,
      "outputs": [
        {
          "output_type": "stream",
          "name": "stdout",
          "text": [
            "Вектор f:\n",
            "[[0.16666667]\n",
            " [0.5       ]\n",
            " [0.83333333]]\n"
          ]
        }
      ]
    },
    {
      "cell_type": "markdown",
      "source": [
        "## Метод простой итерации:"
      ],
      "metadata": {
        "id": "Ih0jsgiXsUOS"
      }
    },
    {
      "cell_type": "markdown",
      "source": [
        "### Задаём матрицу B"
      ],
      "metadata": {
        "id": "NY3Zy9jls_qt"
      }
    },
    {
      "cell_type": "code",
      "source": [
        "E = np.eye(3)\n",
        "\n",
        "B = E - A\n",
        "B"
      ],
      "metadata": {
        "colab": {
          "base_uri": "https://localhost:8080/"
        },
        "id": "8UA2U4sergNI",
        "outputId": "17830e26-11f6-4d9f-fad2-e2f8ada4141d"
      },
      "execution_count": null,
      "outputs": [
        {
          "output_type": "execute_result",
          "data": {
            "text/plain": [
              "array([[-0.00925926, -0.02777778, -0.0462963 ],\n",
              "       [-0.02777778, -0.08333333, -0.13888889],\n",
              "       [-0.0462963 , -0.13888889, -0.23148148]])"
            ]
          },
          "metadata": {},
          "execution_count": 8
        }
      ]
    },
    {
      "cell_type": "markdown",
      "source": [
        "### Задаём начальное значение вектора u"
      ],
      "metadata": {
        "id": "jJMPlKNvtMDc"
      }
    },
    {
      "cell_type": "code",
      "source": [
        "u_old = np.array([[0.]] * 3)\n",
        "u_old"
      ],
      "metadata": {
        "colab": {
          "base_uri": "https://localhost:8080/"
        },
        "id": "K19E7cY1r4nL",
        "outputId": "6eb78e55-8ba8-40e5-cc4b-b58297a69c0e"
      },
      "execution_count": null,
      "outputs": [
        {
          "output_type": "execute_result",
          "data": {
            "text/plain": [
              "array([[0.],\n",
              "       [0.],\n",
              "       [0.]])"
            ]
          },
          "metadata": {},
          "execution_count": 9
        }
      ]
    },
    {
      "cell_type": "markdown",
      "source": [
        "### Задаём критерий останова"
      ],
      "metadata": {
        "id": "g2NRMmP_tYEl"
      }
    },
    {
      "cell_type": "code",
      "source": [
        "eps = 1e-10"
      ],
      "metadata": {
        "id": "diVI3jcetTKm"
      },
      "execution_count": null,
      "outputs": []
    },
    {
      "cell_type": "markdown",
      "source": [
        "### Начинаем работу"
      ],
      "metadata": {
        "id": "S7ea3YPRuif6"
      }
    },
    {
      "cell_type": "code",
      "source": [
        "# МПИ\n",
        "\n",
        "u_new = B @ u_old + f\n",
        "\n",
        "norm_diff_u = np.linalg.norm(u_new - u_old)\n",
        "norm_f = np.linalg.norm(f)\n",
        "\n",
        "if (norm_diff_u / norm_f) >= eps:\n",
        "    while (norm_diff_u / norm_f) >= eps: # условие остановки итерирования\n",
        "\n",
        "        u_old = u_new # типа u_{k-1}\n",
        "        u_new = B @ u_old + f # вычисление u_k\n",
        "\n",
        "        norm_diff_u = np.linalg.norm(u_new - u_old)\n",
        "else:\n",
        "    pass\n",
        "\n",
        "print(f\"u = {u_new}\")"
      ],
      "metadata": {
        "colab": {
          "base_uri": "https://localhost:8080/"
        },
        "id": "nMDu56YduoRS",
        "outputId": "ad1b2ddd-0fbd-4104-9120-d57aaac0ca0f"
      },
      "execution_count": null,
      "outputs": [
        {
          "output_type": "stream",
          "name": "stdout",
          "text": [
            "u = [[0.12587413]\n",
            " [0.37762238]\n",
            " [0.62937063]]\n"
          ]
        }
      ]
    },
    {
      "cell_type": "markdown",
      "source": [
        "# **Задание 3**"
      ],
      "metadata": {
        "id": "e2tvSi0i97zT"
      }
    },
    {
      "cell_type": "markdown",
      "source": [
        "Для произволоного N решить численно задачу, применив итерационный метод простой итерации для решения СЛАУ большой размерности"
      ],
      "metadata": {
        "id": "PYpTxwvg97rz"
      }
    },
    {
      "cell_type": "code",
      "source": [
        "N = int(input(\"Введите значение N: \"))\n",
        "a, b = 0, 1\n",
        "h = (b - a) / N"
      ],
      "metadata": {
        "colab": {
          "base_uri": "https://localhost:8080/"
        },
        "id": "A9kIUw0w-Czr",
        "outputId": "d28da2e9-a3ec-4844-b727-0a38ce288f16"
      },
      "execution_count": null,
      "outputs": [
        {
          "name": "stdout",
          "output_type": "stream",
          "text": [
            "Введите значение N: 5\n"
          ]
        }
      ]
    },
    {
      "cell_type": "code",
      "source": [
        "def x(i):\n",
        "    return i * h + h / 2 + a\n",
        "\n",
        "\n",
        "def y(j):\n",
        "    return j * h + h / 2 + a\n",
        "\n",
        "\n",
        "def A_elements(i, j):\n",
        "    return (x(i) * y(j) * h) + 1 * (i == j)\n",
        "\n",
        "\n",
        "def f_elements(i, j):\n",
        "    return x(i)"
      ],
      "metadata": {
        "id": "qWQ0ylcx-Qak"
      },
      "execution_count": null,
      "outputs": []
    },
    {
      "cell_type": "code",
      "source": [
        "rows, cols = N, N\n",
        "\n",
        "A = np.fromfunction(A_elements, (rows, cols))"
      ],
      "metadata": {
        "id": "hyZhtmEA-U1D"
      },
      "execution_count": null,
      "outputs": []
    },
    {
      "cell_type": "code",
      "source": [
        "rows, cols = N, 1\n",
        "\n",
        "f = np.fromfunction(f_elements, (rows, cols))"
      ],
      "metadata": {
        "id": "S5qHFzy6-c8z"
      },
      "execution_count": null,
      "outputs": []
    },
    {
      "cell_type": "code",
      "source": [
        "E = np.eye(N)\n",
        "B = E - A\n",
        "\n",
        "u_old = np.array([[0.]] * N)\n",
        "\n",
        "eps = 1e-10"
      ],
      "metadata": {
        "id": "FJvkvQyx_Brk"
      },
      "execution_count": null,
      "outputs": []
    },
    {
      "cell_type": "code",
      "source": [
        "u_new = B @ u_old + f\n",
        "\n",
        "norm_diff_u = np.linalg.norm(u_new - u_old)\n",
        "norm_f = np.linalg.norm(f)\n",
        "\n",
        "if (norm_diff_u / norm_f) >= eps:\n",
        "    while (norm_diff_u / norm_f) >= eps:\n",
        "        u_old = u_new\n",
        "        u_new = B @ u_old + f\n",
        "\n",
        "        norm_diff_u = np.linalg.norm(u_new - u_old)\n",
        "        # norm_f = np.linalg.norm(f)\n",
        "else:\n",
        "    pass\n",
        "\n",
        "print(f\"u = {u_new}\")"
      ],
      "metadata": {
        "colab": {
          "base_uri": "https://localhost:8080/"
        },
        "id": "wxDT9l-e_Mag",
        "outputId": "88d82969-99a6-40d6-ddd6-d2e551ab5e44"
      },
      "execution_count": null,
      "outputs": [
        {
          "output_type": "stream",
          "name": "stdout",
          "text": [
            "u = [[0.07518797]\n",
            " [0.22556391]\n",
            " [0.37593985]\n",
            " [0.52631579]\n",
            " [0.67669173]]\n"
          ]
        }
      ]
    },
    {
      "cell_type": "markdown",
      "source": [
        "# **Задание 4**"
      ],
      "metadata": {
        "id": "bhNOyC-Y_5Fr"
      }
    },
    {
      "cell_type": "markdown",
      "source": [
        "Сравнить численный и аналитический результаты по метрике относительной ошибки\n",
        "\n",
        "$$\\delta = \\frac{\\sum_{i=0}^{N-1} \\lVert u(x_i) - u_i \\rVert}{\\sum_{i=0}^{N-1} \\lVert u(x_i) \\rVert}$$\n"
      ],
      "metadata": {
        "id": "mmeektPb_5BE"
      }
    },
    {
      "cell_type": "markdown",
      "source": [
        "Считаем ошибку:"
      ],
      "metadata": {
        "id": "Jj1egLJz__TZ"
      }
    },
    {
      "cell_type": "code",
      "source": [
        "def error(Arr_num, Arr_ana):\n",
        "    return np.sqrt(np.sum((Arr_ana - Arr_num) ** 2) / np.sum(Arr_ana ** 2))\n",
        "\n",
        "\n",
        "def u_ana(x):\n",
        "    return (3 / 4) * x\n",
        "\n",
        "\n",
        "x_values = [x(i) for i in range(N)]\n",
        "u_ana_values = np.array([u_ana(i) for i in x_values]).reshape(N, 1)"
      ],
      "metadata": {
        "id": "OV0Gb42HDF97"
      },
      "execution_count": null,
      "outputs": []
    },
    {
      "cell_type": "code",
      "source": [
        "u_new"
      ],
      "metadata": {
        "colab": {
          "base_uri": "https://localhost:8080/"
        },
        "id": "l1iPWz9wojY5",
        "outputId": "c2bb7015-2f3f-4dc3-8137-fd9e39faf23f"
      },
      "execution_count": null,
      "outputs": [
        {
          "output_type": "execute_result",
          "data": {
            "text/plain": [
              "array([[0.07518797],\n",
              "       [0.22556391],\n",
              "       [0.37593985],\n",
              "       [0.52631579],\n",
              "       [0.67669173]])"
            ]
          },
          "metadata": {},
          "execution_count": 19
        }
      ]
    },
    {
      "cell_type": "code",
      "source": [
        "u_ana_values"
      ],
      "metadata": {
        "colab": {
          "base_uri": "https://localhost:8080/"
        },
        "id": "IdW3EJ2uoLKZ",
        "outputId": "52febef4-b19f-4752-ae70-81694f082933"
      },
      "execution_count": null,
      "outputs": [
        {
          "output_type": "execute_result",
          "data": {
            "text/plain": [
              "array([[0.075],\n",
              "       [0.225],\n",
              "       [0.375],\n",
              "       [0.525],\n",
              "       [0.675]])"
            ]
          },
          "metadata": {},
          "execution_count": 20
        }
      ]
    },
    {
      "cell_type": "code",
      "source": [
        "print(f\"delta = {error(u_new, u_ana_values)}\")"
      ],
      "metadata": {
        "colab": {
          "base_uri": "https://localhost:8080/"
        },
        "id": "gqTZQYfZPwfS",
        "outputId": "8e6a3d38-7161-4eb0-f910-656158f7b180"
      },
      "execution_count": null,
      "outputs": [
        {
          "output_type": "stream",
          "name": "stdout",
          "text": [
            "delta = 0.002506265638551305\n"
          ]
        }
      ]
    },
    {
      "cell_type": "code",
      "source": [
        "plt.plot(u_new, c='red', label='Численное решение')\n",
        "plt.plot(u_ana_values, c='green', label='Аналитическое решение')\n",
        "plt.title('Графики численного и аналитического решений интура')\n",
        "plt.xlabel('x')\n",
        "plt.ylabel('u(x)')\n",
        "plt.legend()"
      ],
      "metadata": {
        "colab": {
          "base_uri": "https://localhost:8080/",
          "height": 495
        },
        "id": "wF08AL63pizX",
        "outputId": "7395d847-cdb7-4922-c81a-8bd0b5760771"
      },
      "execution_count": null,
      "outputs": [
        {
          "output_type": "execute_result",
          "data": {
            "text/plain": [
              "<matplotlib.legend.Legend at 0x7def5cb5eec0>"
            ]
          },
          "metadata": {},
          "execution_count": 22
        },
        {
          "output_type": "display_data",
          "data": {
            "text/plain": [
              "<Figure size 640x480 with 1 Axes>"
            ],
            "image/png": "[encoded data removed]"
          },
          "metadata": {}
        }
      ]
    }
  ]
}