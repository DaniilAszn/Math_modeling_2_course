{
  "nbformat": 4,
  "nbformat_minor": 0,
  "metadata": {
    "colab": {
      "provenance": [],
      "authorship_tag": "ABX9TyMrKgBhM2J4wzLILPFNYAwd",
      "include_colab_link": true
    },
    "kernelspec": {
      "name": "python3",
      "display_name": "Python 3"
    },
    "language_info": {
      "name": "python"
    }
  },
  "cells": [
    {
      "cell_type": "markdown",
      "metadata": {
        "id": "view-in-github",
        "colab_type": "text"
      },
      "source": [
        "<a href=\"https://colab.research.google.com/github/DaniilAszn/Math_modeling_2_course/blob/main/MMAP_2.ipynb\" target=\"_parent\"><img src=\"https://colab.research.google.com/assets/colab-badge.svg\" alt=\"Open In Colab\"/></a>"
      ]
    },
    {
      "cell_type": "markdown",
      "source": [
        "# **Задание 1**"
      ],
      "metadata": {
        "id": "_EeoEVZDmYGl"
      }
    },
    {
      "cell_type": "markdown",
      "source": [
        "В соответствии с практикой 1 реализовать дикретизацию интегрального уравнения Фредгольма 2-го рода с вырожденным ядром на отрезке с произвольным количеством точек коллокации N:\n",
        "\n",
        "$$u(x) + \\int \\limits_{0}^{1} xy \\cdot u(y) dy = x$$"
      ],
      "metadata": {
        "id": "5-UOGYdKmdcP"
      }
    },
    {
      "cell_type": "markdown",
      "source": [
        "Решение описано ранее"
      ],
      "metadata": {
        "id": "BNndzkprnn2V"
      }
    },
    {
      "cell_type": "markdown",
      "source": [
        "# **Задание 2**"
      ],
      "metadata": {
        "id": "0QqtCcvLntJw"
      }
    },
    {
      "cell_type": "markdown",
      "source": [
        "Реализовать на любом языке программирования итерационный метод градиентного спуска и протестировать его на решении практики 1"
      ],
      "metadata": {
        "id": "SosqW_QVnwWI"
      }
    },
    {
      "cell_type": "markdown",
      "source": [
        "Вывод формулы градиентного спуска:\n",
        "\n",
        "\n",
        "СЛАУ:\n",
        "$$Au = f: \\sum_{m=1}^{N}a_{nm}u_m = f_n, n=1,N$$\n",
        "\n",
        "\n",
        "$$\\hat A - сопр.опер.$$\n",
        "\n",
        "\n",
        "Вектор невязки:\n",
        "$$r = Au - f$$\n",
        "\n",
        "\n",
        "Функция для минимизации градиентным спуском:\n",
        "$$F_n(u) = \\frac{1}{2} (\\sum_{m=1}^{N}a_{nm}u_m - f_n)^2$$\n",
        "\n",
        "\n",
        "$$F(u) = \\sum_{n=1}^{N}F_n(u)$$\n",
        "\n",
        "\n",
        "Extr $F(u):$\n",
        "$$\\frac{\\partial F(u)}{\\partial u_k} = 0, k=1,N$$\n",
        "\n",
        "\n",
        "$$\\frac{\\partial F_n(u)}{\\partial u_k} = \\frac{1}{2} \\cdot 2 \\cdot (\\sum a_{nm}u_m - f_n) \\cdot a_{nk} = r_n \\cdot a_{nk}$$\n",
        "\n",
        "\n",
        "$$\\frac{\\partial F(u)}{\\partial u_k} = \\sum_{n=1}^{N}r_n \\cdot a_{nk} = 0$$\n",
        "\n",
        "\n",
        "$$r_n = \\sum a_{nm}u_m - f_n = 0$$\n",
        "\n",
        "\n",
        "Градиент функции:\n",
        "$$[\\nabla F(u)]_k = \\sum_{n=1}^{N}a_{nk} \\cdot r_k$$\n",
        "\n",
        "\n",
        "$$g(u) = A^T \\cdot r(u), r(u) = Au - f$$\n",
        "\n",
        "\n",
        "Задача минимизации:\n",
        "$$F(u + hg) \\rightarrow min$$\n",
        "\n",
        "\n",
        "$$F(u) = \\frac{1}{2}<Au - f,Au - f>$$\n",
        "\n",
        "\n",
        "$$F(u + hg) = \\frac{1}{2}<Au + Ahg - f,Au + Ahg - f>$$\n",
        "\n",
        "\n",
        "Итерации градиентного спуска:\n",
        "$$u_{k+1} = u_k +hg, h - l.r.$$\n",
        "\n",
        "\n",
        "$$\\frac{dF(u + hg)}{dh} = 0$$\n",
        "\n",
        "\n",
        "$$<Ag, Ahg + r> = 0$$\n",
        "\n",
        "\n",
        "$$h \\cdot <Ag, Ag> + <Ag, r> = 0$$\n",
        "\n",
        "\n",
        "$$h = -\\frac{<Ag, r>}{<Ag, Ag>}$$\n",
        "\n",
        "\n",
        "Итоговый вид формулы градиентного спуска:\n",
        "$$u_{k+1} = u_k - \\frac{<Ag, r>}{<Ag, Ag>} \\cdot g$$\n",
        "\n",
        "\n",
        "$$u_{k+1} = u_k - \\frac{<AA^Tr, r>}{<AA^Tr, AA^Tr>} \\cdot A^Tr$$\n",
        "\n",
        "\n",
        "$$u_{k+1} = u_k - \\frac{<A^Tr, A^Tr>}{\\lVert AA^Tr \\rVert ^2} \\cdot A^Tr$$\n",
        "\n",
        "\n",
        "$$u_{k+1} = u_k - \\frac{\\lVert A^Tr \\rVert ^2}{\\lVert AA^Tr \\rVert ^2} \\cdot A^Tr, r=r_k=Au_k - f$$"
      ],
      "metadata": {
        "id": "RH7_Y5wxpT-w"
      }
    },
    {
      "cell_type": "markdown",
      "source": [
        "Метод градиентного спуска:\n",
        "1. $u_0 = \\overrightarrow 0$\n",
        "2. $u_{k+1} = u_k - \\frac{{\\lVert A^Tr \\rVert}^2}{{\\lVert AA^Tr \\rVert}^2} \\cdot A^Tr$\n",
        "3. $\\frac{\\lVert u_k - u_{k-1} \\rVert}{\\lVert f \\rVert} < \\varepsilon$"
      ],
      "metadata": {
        "id": "Gownuvyyn1vz"
      }
    },
    {
      "cell_type": "code",
      "execution_count": null,
      "metadata": {
        "id": "cgk1x1413oCe"
      },
      "outputs": [],
      "source": [
        "import numpy as np\n",
        "import pandas as pd\n",
        "import matplotlib.pyplot as plt\n",
        "plt.style.use(\"ggplot\")"
      ]
    },
    {
      "cell_type": "code",
      "source": [
        "N = int(input(\"Введите значение N: \"))\n",
        "a, b = 0, 1\n",
        "h = (b - a) / N"
      ],
      "metadata": {
        "colab": {
          "base_uri": "https://localhost:8080/"
        },
        "id": "Owdfc0gEEqcL",
        "outputId": "9c94e74b-f9e5-4d57-c186-8d5a666f3aa2"
      },
      "execution_count": null,
      "outputs": [
        {
          "name": "stdout",
          "output_type": "stream",
          "text": [
            "Введите значение N: 6\n"
          ]
        }
      ]
    },
    {
      "cell_type": "code",
      "source": [
        "def x(i):\n",
        "    return i * h + h / 2 + a\n",
        "\n",
        "\n",
        "def y(j):\n",
        "    return j * h + h / 2 + a\n",
        "\n",
        "\n",
        "def A_elements(i, j):\n",
        "    return (x(i) * y(j) * h) + 1 * (i == j)\n",
        "\n",
        "\n",
        "def f_elements(i, j):\n",
        "    return x(i)"
      ],
      "metadata": {
        "id": "XfL819vaEt8v"
      },
      "execution_count": null,
      "outputs": []
    },
    {
      "cell_type": "code",
      "source": [
        "rows, cols = N, N\n",
        "\n",
        "A = np.fromfunction(A_elements, (rows, cols))"
      ],
      "metadata": {
        "id": "S33QLc2cEwAH"
      },
      "execution_count": null,
      "outputs": []
    },
    {
      "cell_type": "code",
      "source": [
        "rows, cols = N, 1\n",
        "\n",
        "f = np.fromfunction(f_elements, (rows, cols))"
      ],
      "metadata": {
        "id": "aQVwNAyRE9HW"
      },
      "execution_count": null,
      "outputs": []
    },
    {
      "cell_type": "code",
      "source": [
        "# Начальное значение вектора u\n",
        "u_old = np.array([[0.]] * N)\n",
        "\n",
        "# Критерий останова\n",
        "eps = 1e-10"
      ],
      "metadata": {
        "id": "lg1EkONnE9Em"
      },
      "execution_count": null,
      "outputs": []
    },
    {
      "cell_type": "code",
      "source": [
        "def gradient_descent(u_old, A, f, r, eps):\n",
        "    steps = 1\n",
        "\n",
        "    AT = np.matrix.transpose(A) # не обязательно\n",
        "    AT_r = AT @ r\n",
        "    up = np.linalg.norm(AT_r) ** 2\n",
        "    down = np.linalg.norm(A @ AT_r) ** 2\n",
        "\n",
        "    u_new = u_old - (up / down) * (AT @ r)\n",
        "\n",
        "    norm_diff_u = np.linalg.norm(u_new - u_old)\n",
        "    norm_f = np.linalg.norm(f)\n",
        "\n",
        "    if (norm_diff_u / norm_f) >= eps:\n",
        "        while (norm_diff_u / norm_f) >= eps:\n",
        "            steps += 1\n",
        "\n",
        "            u_old = u_new\n",
        "            r = A @ u_old - f\n",
        "            AT_r = AT @ r\n",
        "            up = round(np.linalg.norm(AT_r) ** 2, 30)\n",
        "            down = round(np.linalg.norm(A @ AT_r) ** 2, 30)\n",
        "\n",
        "            if down != 0:\n",
        "                u_new = u_old - (up / down) * (AT @ r)\n",
        "\n",
        "                norm_diff_u = np.linalg.norm(u_new - u_old)\n",
        "            else:\n",
        "                break\n",
        "    else:\n",
        "        pass\n",
        "\n",
        "\n",
        "    return u_new, steps\n",
        "\n",
        "# Для градиентного спуска\n",
        "r = A @ u_old - f\n",
        "\n",
        "u_GD, count_steps_GD = gradient_descent(u_old, A, f, r, eps)"
      ],
      "metadata": {
        "id": "PWJYOz9HE8_l"
      },
      "execution_count": null,
      "outputs": []
    },
    {
      "cell_type": "code",
      "source": [
        "def error(Arr_num, Arr_ana):\n",
        "    return np.sqrt(np.sum((Arr_ana - Arr_num) ** 2) / np.sum(Arr_ana ** 2))\n",
        "\n",
        "\n",
        "def u_ana(x):\n",
        "    return (3 / 4) * x\n",
        "\n",
        "\n",
        "x_values = [x(i) for i in range(N)]\n",
        "u_ana_values = np.array([u_ana(i) for i in x_values]).reshape(N, 1)"
      ],
      "metadata": {
        "id": "hwd3UWMINzOU"
      },
      "execution_count": null,
      "outputs": []
    },
    {
      "cell_type": "code",
      "source": [
        "print(f\"delta_GD = {error(u_GD, u_ana_values)}\")\n",
        "print(f\"Число шагов: {count_steps_GD}\")"
      ],
      "metadata": {
        "colab": {
          "base_uri": "https://localhost:8080/"
        },
        "id": "XySSE8F7N2kx",
        "outputId": "10504d14-a195-459a-98e1-f0c8fc0da0f2"
      },
      "execution_count": null,
      "outputs": [
        {
          "output_type": "stream",
          "name": "stdout",
          "text": [
            "delta_GD = 0.0017391304347823752\n",
            "Число шагов: 2\n"
          ]
        }
      ]
    },
    {
      "cell_type": "code",
      "source": [
        "plt.plot(u_GD, c='red', label='Численное решение')\n",
        "plt.plot(u_ana_values, c='green', label='Аналитическое решение')\n",
        "plt.title('Графики численного и аналитического решений интура')\n",
        "plt.xlabel('x')\n",
        "plt.ylabel('u(x)')\n",
        "plt.legend()"
      ],
      "metadata": {
        "colab": {
          "base_uri": "https://localhost:8080/",
          "height": 495
        },
        "id": "Lc2Az3OfOF_J",
        "outputId": "aa6f430a-ff0c-4022-c8c2-476d08badee4"
      },
      "execution_count": null,
      "outputs": [
        {
          "output_type": "execute_result",
          "data": {
            "text/plain": [
              "<matplotlib.legend.Legend at 0x78fd954425c0>"
            ]
          },
          "metadata": {},
          "execution_count": 10
        },
        {
          "output_type": "display_data",
          "data": {
            "text/plain": [
              "<Figure size 640x480 with 1 Axes>"
            ],
            "image/png": "[encoded data removed]"
          },
          "metadata": {}
        }
      ]
    },
    {
      "cell_type": "markdown",
      "source": [
        "# **Задание 3**"
      ],
      "metadata": {
        "id": "Kts4BH-K9A0_"
      }
    },
    {
      "cell_type": "markdown",
      "source": [
        "При одинаковых значениях $\\varepsilon$ сравнить эффективность и качество сходимости итерационных методов: метода простой итерации и градиентного спуска."
      ],
      "metadata": {
        "id": "HwE8qZxm9I6i"
      }
    },
    {
      "cell_type": "code",
      "source": [
        "def simple_iteration(u_old, B, f, eps):\n",
        "    steps = 1\n",
        "\n",
        "    u_new = B @ u_old + f\n",
        "\n",
        "    norm_diff_u = np.linalg.norm(u_new - u_old)\n",
        "    norm_f = np.linalg.norm(f)\n",
        "\n",
        "    if (norm_diff_u / norm_f) >= eps:\n",
        "        while (norm_diff_u / norm_f) >= eps:\n",
        "            steps += 1\n",
        "\n",
        "            u_old = u_new\n",
        "\n",
        "            u_new = B @ u_old + f\n",
        "\n",
        "            norm_diff_u = np.linalg.norm(u_new - u_old)\n",
        "            # norm_f = np.linalg.norm(f)\n",
        "    else:\n",
        "        pass\n",
        "\n",
        "    return u_new, steps\n",
        "\n",
        "# Для МПИ\n",
        "E = np.eye(N)\n",
        "B = E - A\n",
        "\n",
        "u_MSI, count_steps_MSI = simple_iteration(u_old, B, f, eps)"
      ],
      "metadata": {
        "id": "utsW-XyxE889"
      },
      "execution_count": null,
      "outputs": []
    },
    {
      "cell_type": "code",
      "source": [
        "print(f\"delta_MSI = {error(u_MSI, u_ana_values)}\")\n",
        "print(f\"Число шагов: {count_steps_MSI}\")"
      ],
      "metadata": {
        "colab": {
          "base_uri": "https://localhost:8080/"
        },
        "id": "YE4n5MWQ9BEM",
        "outputId": "1a6ad919-f852-4f23-d381-64181f0b6748"
      },
      "execution_count": null,
      "outputs": [
        {
          "output_type": "stream",
          "name": "stdout",
          "text": [
            "delta_MSI = 0.0017391304073981141\n",
            "Число шагов: 22\n"
          ]
        }
      ]
    },
    {
      "cell_type": "code",
      "source": [
        "Methods_table = {'GD': (error(u_GD, u_ana_values), count_steps_GD),\n",
        "                 'MSI': (error(u_MSI, u_ana_values), count_steps_MSI)}\n",
        "\n",
        "print(Methods_table)\n",
        "\n",
        "Methods_df = pd.DataFrame.from_dict(Methods_table)\n",
        "print(Methods_df)"
      ],
      "metadata": {
        "colab": {
          "base_uri": "https://localhost:8080/"
        },
        "id": "EzooEX3cWO40",
        "outputId": "bb02bf34-612a-4274-dd2a-36f4de6ef8f4"
      },
      "execution_count": null,
      "outputs": [
        {
          "output_type": "stream",
          "name": "stdout",
          "text": [
            "{'GD': (0.0017391304347823752, 2), 'MSI': (0.0017391304073981141, 22)}\n",
            "         GD        MSI\n",
            "0  0.001739   0.001739\n",
            "1  2.000000  22.000000\n"
          ]
        }
      ]
    },
    {
      "cell_type": "code",
      "source": [
        "plt.plot(u_GD, c='red', label='GD')\n",
        "plt.plot(u_MSI, c='purple', label='MSI')\n",
        "plt.plot(u_ana_values, c='green', label='Аналитическое решение')\n",
        "plt.title('Графики численного и аналитического решений интура')\n",
        "plt.xlabel('x')\n",
        "plt.ylabel('u(x)')\n",
        "plt.legend()"
      ],
      "metadata": {
        "colab": {
          "base_uri": "https://localhost:8080/",
          "height": 495
        },
        "id": "c5Y1EL_DSPst",
        "outputId": "f44c6b3f-4c28-4461-ea0b-fd50443720a5"
      },
      "execution_count": null,
      "outputs": [
        {
          "output_type": "execute_result",
          "data": {
            "text/plain": [
              "<matplotlib.legend.Legend at 0x78fd9537f130>"
            ]
          },
          "metadata": {},
          "execution_count": 14
        },
        {
          "output_type": "display_data",
          "data": {
            "text/plain": [
              "<Figure size 640x480 with 1 Axes>"
            ],
            "image/png": "[encoded data removed]"
          },
          "metadata": {}
        }
      ]
    }
  ]
}