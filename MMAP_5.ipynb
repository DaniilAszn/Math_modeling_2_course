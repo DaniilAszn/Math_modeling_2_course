{
  "nbformat": 4,
  "nbformat_minor": 0,
  "metadata": {
    "colab": {
      "provenance": [],
      "authorship_tag": "ABX9TyM/JciVB3j5LXNr/eOubg1z",
      "include_colab_link": true
    },
    "kernelspec": {
      "name": "python3",
      "display_name": "Python 3"
    },
    "language_info": {
      "name": "python"
    }
  },
  "cells": [
    {
      "cell_type": "markdown",
      "metadata": {
        "id": "view-in-github",
        "colab_type": "text"
      },
      "source": [
        "<a href=\"https://colab.research.google.com/github/DaniilAszn/Math_modeling_2_course/blob/main/MMAP_5.ipynb\" target=\"_parent\"><img src=\"https://colab.research.google.com/assets/colab-badge.svg\" alt=\"Open In Colab\"/></a>"
      ]
    },
    {
      "cell_type": "markdown",
      "source": [
        "# **Задание 1**"
      ],
      "metadata": {
        "id": "klAJyK0sMXrQ"
      }
    },
    {
      "cell_type": "markdown",
      "source": [
        "В соответствии с практикой 1 реализовать дикретизацию интегрального уравнения Фредгольма 2-го рода с вырожденным ядром на отрезке с произвольным количеством точек коллокации N:\n",
        "\n",
        "$$u(x) + \\int \\limits_{0}^{1} xy \\cdot u(y) dy = x$$"
      ],
      "metadata": {
        "id": "V1_aYDy3MXn4"
      }
    },
    {
      "cell_type": "markdown",
      "source": [
        "Решение описано ранее"
      ],
      "metadata": {
        "id": "8o_fxaC8MXk4"
      }
    },
    {
      "cell_type": "markdown",
      "source": [
        "# **Задание 2**"
      ],
      "metadata": {
        "id": "_J7M8o3FMXhp"
      }
    },
    {
      "cell_type": "markdown",
      "source": [
        "Реализовать на любом языке программирования стабилизированный метод бисопряженных градиентов и протестировать его на решении задачи 1"
      ],
      "metadata": {
        "id": "JAj3HUPmL-wx"
      }
    },
    {
      "cell_type": "markdown",
      "source": [
        "Стабилизированный метод бисопряжённых градиентов:\n",
        "\n",
        "**1\\. Подготовка:**\n",
        "1. $u_0 = \\overrightarrow 0$\n",
        "2. $r_0 = f - Au_0$\n",
        "3. $\\tilde{r} = r_0$\n",
        "4. $\\rho_0 = \\alpha_0 = \\omega_0 = 1$\n",
        "5. $v_0 = p_0 = s_0 = \\overrightarrow 0$\n",
        "\n",
        "**2\\. Итерации:**\n",
        "1. $\\rho_k = <\\tilde{r}, r_{k-1}>$\n",
        "2. $\\beta_k = \\frac{\\rho_k}{\\rho_{k-1}} \\cdot \\frac{\\alpha_{k-1}}{\\omega_{k-1}}$\n",
        "3. $p_k = r_{k-1} + \\beta_k \\cdot (p_{k-1} - \\omega_{k-1} \\cdot v_{k-1})$\n",
        "4. $v_k = Ap_k$\n",
        "5. $\\alpha_k = \\frac{\\rho_k}{<\\tilde{r}, v_k>}$\n",
        "6. $s_k = r_{k-1} - \\alpha_k \\cdot v_k$\n",
        "7. $t_k = As_k$\n",
        "8. $\\omega_k = \\frac{<t_k, s_k>}{<t_k, t_k>}$\n",
        "9. $u_k = u_{k-1} + \\omega_k s_k + \\alpha_k p_k$\n",
        "10. $r_k = s_k - \\omega_k t_k$\n",
        "\n",
        "**3\\. Критерий останова:**\n",
        "\n",
        "0. $\\varepsilon - маленькое$\n",
        "1. $\\frac{\\lVert u_k - u_{k-1} \\rVert}{\\lVert f \\rVert} < \\varepsilon$"
      ],
      "metadata": {
        "id": "pPh87p4RNMW5"
      }
    },
    {
      "cell_type": "markdown",
      "source": [
        "## А что стоит за этими формулами?"
      ],
      "metadata": {
        "id": "ovVDlIgSO_vL"
      }
    },
    {
      "cell_type": "markdown",
      "source": [
        "Проекционные методы решения СЛАУ — класс итерационных методов, в которых решается задача проектирования неизвестного вектора на некоторое пространство оптимально относительно другого некоторого пространства."
      ],
      "metadata": {
        "id": "SLUKFFqQQVFR"
      }
    },
    {
      "cell_type": "markdown",
      "source": [
        "### Постановка задачи:"
      ],
      "metadata": {
        "id": "LNqf4eq-WGJI"
      }
    },
    {
      "cell_type": "markdown",
      "source": [
        "Рассмотрим СЛАУ $Ax = b$, где $A \\in ℝ^{n \\times n}$. Пусть $K^m, L^m \\subset ℝ^n$. Необходимо найти такой вектор $\\tilde{x} \\in K$, чтобы $b - A\\tilde{x} \\perp L$, т.е. выполнялось условие:\n",
        "\n",
        "$$\\forall l \\in L: <A\\tilde{x}, l> = <b, l>,$$\n",
        "\n",
        "называемое условием Петрова-Галёркина.\n",
        "\n",
        "\n",
        "Если известно начальное приближение $x_0$, то тогда решение должно проецироваться на аффинное пространство $x_0 + K$. Представим $\\tilde{x} = x_0 + \\delta$ и обозначим невязку начального приближения как $r_0 = b - Ax_0$.\n",
        "\n",
        "$$b - A\\tilde{x} = b - A(x_0 + \\delta) = b - Ax_0 - A\\delta = (b - Ax_0) - A\\delta = r_0 - A\\delta.$$\n",
        "\n",
        "Тогда постановку задачи можно сформулировать следующим образом: Необходимо найти такую поправку $\\delta \\in K$, чтобы $r_0 - A\\delta \\perp L$, т.е. выполнялось условие:\n",
        "\n",
        "$$\\tilde{x} = x_0 + \\delta$$\n",
        "\n",
        "$$\\forall l \\in L: <r_0 - A\\delta, l> = 0$$\n"
      ],
      "metadata": {
        "id": "qD5iwx0GWQtH"
      }
    },
    {
      "cell_type": "markdown",
      "source": [
        "### Общий подход к построению проекционных методов:"
      ],
      "metadata": {
        "id": "q2aq1PeqWMhu"
      }
    },
    {
      "cell_type": "markdown",
      "source": [
        "Введём матричные базисы в пространствах $K$ и $L$:\n",
        "\n",
        "$V \\in ℝ^{n \\times m}$ - матрица составленная из базисных векторов-столбцов пространства $K$.\n",
        "\n",
        "$W \\in ℝ^{n \\times m}$ - матрица составленная из базисных векторов-столбцов пространства $L$.\n",
        "\n",
        "Тогда $\\delta = Vy$ и вектор-решение $\\tilde{x}$ может быть записан:\n",
        "\n",
        "$$\\tilde{x} = x_0 + Vy,$$\n",
        "\n",
        "где $y \\in ℝ^m$ - вектор коэффициентов.\n",
        "\n",
        "Тогда выражение $<r_0 - A\\delta, l> = 0$ может быть переписано в виде:\n",
        "\n",
        "$$W^T(r_0 - A\\delta) = \\overrightarrow 0,$$\n",
        "\n",
        "откуда $W^TAVy = W^Tr_0$ и\n",
        "\n",
        "$$y = (W^TAV)^{-1}W^Tr_0.$$\n",
        "\n",
        "Таким образом решение должно уточняться в соответствии с формулой:\n",
        "\n",
        "$$\\tilde{x} = x_0 + V(W^TAV)^{-1}W^Tr_0.$$"
      ],
      "metadata": {
        "id": "KXbdIJUbWQGn"
      }
    },
    {
      "cell_type": "markdown",
      "source": [
        "Общий вид любого метода проекционного класса:\n",
        "\n",
        "Делать пока не найдено решение.\n",
        "1. Выбираем пару подпространств $K$ и $L$\n",
        "2. Построение для выбранных подпространств базисов $V$ и $W$\n",
        "3. $r_0 = b - Ax_0$\n",
        "4. $y = (W^TAV)^{-1}W^Tr_0$\n",
        "5. $x_1 = x_0 + Vy$"
      ],
      "metadata": {
        "id": "vq_nLDTvlWge"
      }
    },
    {
      "cell_type": "markdown",
      "source": [
        "### Методы Крыловского типа:"
      ],
      "metadata": {
        "id": "dKyFgtp2WRPn"
      }
    },
    {
      "cell_type": "markdown",
      "source": [
        "Методы Крыловского типа (или методы подпространства Крылова) - это методы, для которых в качестве подпространства $K$ выбирается подпространство Крылова:\n",
        "\n",
        "$$K_m(r_0, A) = span \\{ r_0, Ar_0, A^2r_0, _\\cdots, A^{m-1}r_0 \\},$$\n",
        "\n",
        "где $r_0 = b - Ax_0$ - невязка начального приближения.\n",
        "\n",
        "Различные версии методов подпространства Крылова обуславливаются выбором подпространства $L$."
      ],
      "metadata": {
        "id": "ObRbvAWKWdJv"
      }
    },
    {
      "cell_type": "code",
      "source": [
        "import numpy as np\n",
        "import pandas as pd\n",
        "import matplotlib.pyplot as plt\n",
        "plt.style.use(\"ggplot\")"
      ],
      "metadata": {
        "id": "naq8uGAaMrOp"
      },
      "execution_count": null,
      "outputs": []
    },
    {
      "cell_type": "code",
      "source": [
        "N = int(input(\"Введите значение N: \"))\n",
        "a, b = 0, 1\n",
        "h = (b - a) / N"
      ],
      "metadata": {
        "colab": {
          "base_uri": "https://localhost:8080/"
        },
        "id": "n0sC7dpYMrMB",
        "outputId": "a2930604-fb1d-44a3-de20-1281923f13f2"
      },
      "execution_count": null,
      "outputs": [
        {
          "name": "stdout",
          "output_type": "stream",
          "text": [
            "Введите значение N: 8\n"
          ]
        }
      ]
    },
    {
      "cell_type": "code",
      "source": [
        "def x(i):\n",
        "    return i * h + h / 2 + a\n",
        "\n",
        "\n",
        "def y(j):\n",
        "    return j * h + h / 2 + a\n",
        "\n",
        "\n",
        "def A_elements(i, j):\n",
        "    return (x(i) * y(j) * h) + 1 * (i == j)\n",
        "\n",
        "\n",
        "def f_elements(i, j):\n",
        "    return x(i)"
      ],
      "metadata": {
        "id": "0vMzkF99MrJp"
      },
      "execution_count": null,
      "outputs": []
    },
    {
      "cell_type": "code",
      "execution_count": null,
      "metadata": {
        "id": "9_z5kZnFL7g3"
      },
      "outputs": [],
      "source": [
        "rows, cols = N, N\n",
        "\n",
        "A = np.fromfunction(A_elements, (rows, cols))"
      ]
    },
    {
      "cell_type": "code",
      "source": [
        "rows, cols = N, 1\n",
        "\n",
        "f = np.fromfunction(f_elements, (rows, cols))"
      ],
      "metadata": {
        "id": "7CA8djPUN4Tv"
      },
      "execution_count": null,
      "outputs": []
    },
    {
      "cell_type": "code",
      "source": [
        "# Начальное значение вектора u\n",
        "u_old = np.array([[0.]] * N)\n",
        "\n",
        "# Критерий останова\n",
        "eps = 1e-10"
      ],
      "metadata": {
        "id": "hslTURYdN5vC"
      },
      "execution_count": null,
      "outputs": []
    },
    {
      "cell_type": "code",
      "source": [
        "def biconjugate_gradient_stabilized_method(u_old, A, f, r, r_tilda, rho, alpha, omega, v, p, s, eps):\n",
        "    steps = 1\n",
        "\n",
        "    # Подготовка\n",
        "    r_old = r\n",
        "    rho_old = rho\n",
        "    alpha_old = alpha\n",
        "    omega_old = omega\n",
        "    v_old = v\n",
        "    p_old = p\n",
        "    s_old = s\n",
        "\n",
        "    # Итерации\n",
        "    rho_new = r_tilda.T @ r_old\n",
        "    beta = (rho_new / rho_old) * (alpha_old / omega_old)\n",
        "    p_new = r_old + beta * (p_old - omega_old * v_old)\n",
        "    v_new = A @ p_new\n",
        "    alpha_new = rho_new / (r_tilda.T @ v_new)\n",
        "    s_new = r_old - alpha_new * v_new\n",
        "    if not(np.any(s_new)):\n",
        "        s_new = np.array([[0.0000205]] * N)\n",
        "    t = A @ s_new\n",
        "    omega_new = (t.T @ s_new) / (np.sum(t ** 2))\n",
        "    u_new = u_old + omega_new * s_new + alpha_new * p_new\n",
        "    r_new = s_new - omega_new * t\n",
        "\n",
        "    # Критерий останова\n",
        "    norm_diff_u = np.linalg.norm(u_new - u_old)\n",
        "    norm_f = np.linalg.norm(f)\n",
        "\n",
        "    if (norm_diff_u / norm_f) >= eps:\n",
        "        while (norm_diff_u / norm_f) >= eps:\n",
        "            steps += 1\n",
        "\n",
        "            u_old = u_new\n",
        "\n",
        "            # Подготовка\n",
        "            r_old = r_new\n",
        "            rho_old = rho_new\n",
        "            alpha_old = alpha_new\n",
        "            omega_old = omega_new\n",
        "            v_old = v_new\n",
        "            p_old = p_new\n",
        "            s_old = s_new\n",
        "\n",
        "            # Итерации\n",
        "            rho_new = r_tilda.T @ r_old\n",
        "            beta = (rho_new / rho_old) * (alpha_old / omega_old)\n",
        "            p_new = r_old + beta * (p_old - omega_old * v_old)\n",
        "            v_new = A @ p_new\n",
        "            alpha_new = rho_new / (r_tilda.T @ v_new)\n",
        "            s_new = r_old - alpha_new * v_new\n",
        "            if not(np.any(s_new)):\n",
        "                s_new = np.array([[0.0000205]] * N)\n",
        "            t = A @ s_new\n",
        "            omega_new = (t.T @ s_new) / (np.sum(t ** 2))\n",
        "            u_new = u_old + omega_new * s_new + alpha_new * p_new\n",
        "            r_new = s_new - omega_new * t\n",
        "\n",
        "            # Критерий останова\n",
        "            norm_diff_u = np.linalg.norm(u_new - u_old)\n",
        "    else:\n",
        "        pass\n",
        "\n",
        "    return u_new, steps\n",
        "\n",
        "# Для стабилизированного метода бисопряжённых градиентов\n",
        "r = f - A @ u_old\n",
        "r_tilda = r\n",
        "rho = 1\n",
        "alpha = 1\n",
        "omega = 1\n",
        "v = np.array([[0.]] * N)\n",
        "p = np.array([[0.]] * N)\n",
        "s = np.array([[0.]] * N)\n",
        "\n",
        "u_BGSM, count_steps_BGSM = biconjugate_gradient_stabilized_method(u_old, A, f, r, r_tilda, rho, alpha, omega, v, p, s, eps)"
      ],
      "metadata": {
        "id": "Tb_79gdZN8Vh"
      },
      "execution_count": null,
      "outputs": []
    },
    {
      "cell_type": "code",
      "source": [
        "def error(Arr_num, Arr_ana):\n",
        "    return np.sqrt(np.sum((Arr_ana - Arr_num) ** 2) / np.sum(Arr_ana ** 2))\n",
        "\n",
        "\n",
        "def u_ana(x):\n",
        "    return (3 / 4) * x\n",
        "\n",
        "\n",
        "x_values = [x(i) for i in range(N)]\n",
        "u_ana_values = np.array([u_ana(i) for i in x_values]).reshape(N, 1)"
      ],
      "metadata": {
        "id": "0zx0hoOSOBgC"
      },
      "execution_count": null,
      "outputs": []
    },
    {
      "cell_type": "code",
      "source": [
        "print(f\"delta_BGSM = {error(u_BGSM, u_ana_values)}\")\n",
        "print(f\"Число шагов: {count_steps_BGSM}\")"
      ],
      "metadata": {
        "colab": {
          "base_uri": "https://localhost:8080/"
        },
        "id": "BKHI5CiKOCHP",
        "outputId": "f3b6e6f1-5642-4d5b-e574-6254084e2f18"
      },
      "execution_count": null,
      "outputs": [
        {
          "output_type": "stream",
          "name": "stdout",
          "text": [
            "delta_BGSM = 0.0010086934697387361\n",
            "Число шагов: 3\n"
          ]
        }
      ]
    },
    {
      "cell_type": "code",
      "source": [
        "plt.plot(u_BGSM, c='red', label='Численное решение')\n",
        "plt.plot(u_ana_values, c='green', label='Аналитическое решение')\n",
        "plt.title('Графики численного и аналитического решений интура')\n",
        "plt.xlabel('x')\n",
        "plt.ylabel('u(x)')\n",
        "plt.legend()"
      ],
      "metadata": {
        "colab": {
          "base_uri": "https://localhost:8080/",
          "height": 495
        },
        "id": "mxuhDPuKOV3A",
        "outputId": "23e829b3-28e8-40b3-9a69-341c9ddf0b8c"
      },
      "execution_count": null,
      "outputs": [
        {
          "output_type": "execute_result",
          "data": {
            "text/plain": [
              "<matplotlib.legend.Legend at 0x7858982833a0>"
            ]
          },
          "metadata": {},
          "execution_count": 26
        },
        {
          "output_type": "display_data",
          "data": {
            "text/plain": [
              "<Figure size 640x480 with 1 Axes>"
            ],
            "image/png": "[encoded data removed]"
          },
          "metadata": {}
        }
      ]
    },
    {
      "cell_type": "markdown",
      "source": [
        "# **Задание 3**"
      ],
      "metadata": {
        "id": "ZJJNuUCvObTz"
      }
    },
    {
      "cell_type": "markdown",
      "source": [
        "При одинаковых значениях $\\varepsilon$ сравнить эффективность и качество сходимости итерационных методов: метода простой итерации, градиентного спуска, двухшагового метода градиентного спуска и стабилизированного метода бисопряжённых градиентов."
      ],
      "metadata": {
        "id": "hyB46k-gOb9J"
      }
    },
    {
      "cell_type": "markdown",
      "source": [
        "### Метод простой итерации:"
      ],
      "metadata": {
        "id": "05JYqGldb_wH"
      }
    },
    {
      "cell_type": "code",
      "source": [
        "def simple_iteration(u_old, B, f, eps):\n",
        "    steps = 1\n",
        "\n",
        "    u_new = B @ u_old + f\n",
        "\n",
        "    norm_diff_u = np.linalg.norm(u_new - u_old)\n",
        "    norm_f = np.linalg.norm(f)\n",
        "\n",
        "    if (norm_diff_u / norm_f) >= eps:\n",
        "        while (norm_diff_u / norm_f) >= eps:\n",
        "            steps += 1\n",
        "\n",
        "            u_old = u_new\n",
        "\n",
        "            u_new = B @ u_old + f\n",
        "\n",
        "            norm_diff_u = np.linalg.norm(u_new - u_old)\n",
        "    else:\n",
        "        pass\n",
        "\n",
        "    return u_new, steps\n",
        "\n",
        "# Для МПИ\n",
        "E = np.eye(N)\n",
        "B = E - A\n",
        "\n",
        "u_MSI, count_steps_MSI = simple_iteration(u_old, B, f, eps)"
      ],
      "metadata": {
        "id": "phl-6aMOcAYX"
      },
      "execution_count": null,
      "outputs": []
    },
    {
      "cell_type": "code",
      "source": [
        "print(f\"delta_MSI = {error(u_MSI, u_ana_values)}\")\n",
        "print(f\"Число шагов: {count_steps_MSI}\")"
      ],
      "metadata": {
        "colab": {
          "base_uri": "https://localhost:8080/"
        },
        "id": "ULIvrikbcEku",
        "outputId": "146dad8a-7f93-401a-ad25-588dcd4b4348"
      },
      "execution_count": null,
      "outputs": [
        {
          "output_type": "stream",
          "name": "stdout",
          "text": [
            "delta_MSI = 0.0009775170772835684\n",
            "Число шагов: 22\n"
          ]
        }
      ]
    },
    {
      "cell_type": "markdown",
      "source": [
        "### Градиентный спуск:"
      ],
      "metadata": {
        "id": "RRQPNZYIcCxn"
      }
    },
    {
      "cell_type": "code",
      "source": [
        "def gradient_descent(u_old, A, f, r, eps):\n",
        "    steps = 1\n",
        "\n",
        "    AT = np.matrix.transpose(A) # не обязательно\n",
        "    AT_r = AT @ r\n",
        "    up = np.linalg.norm(AT_r) ** 2\n",
        "    down = np.linalg.norm(A @ AT_r) ** 2\n",
        "\n",
        "    u_new = u_old - (up / down) * (AT @ r)\n",
        "\n",
        "    norm_diff_u = np.linalg.norm(u_new - u_old)\n",
        "    norm_f = np.linalg.norm(f)\n",
        "\n",
        "    if (norm_diff_u / norm_f) >= eps:\n",
        "        while (norm_diff_u / norm_f) >= eps:\n",
        "            steps += 1\n",
        "\n",
        "            u_old = u_new\n",
        "            r = A @ u_old - f\n",
        "            AT_r = AT @ r\n",
        "            up = round(np.linalg.norm(AT_r) ** 2, 30)\n",
        "            down = round(np.linalg.norm(A @ AT_r) ** 2, 30)\n",
        "\n",
        "            if down != 0:\n",
        "                u_new = u_old - (up / down) * (AT @ r)\n",
        "\n",
        "                norm_diff_u = np.linalg.norm(u_new - u_old)\n",
        "            else:\n",
        "                break\n",
        "    else:\n",
        "        pass\n",
        "\n",
        "    return u_new, steps\n",
        "\n",
        "# Для градиентного спуска\n",
        "r = A @ u_old - f\n",
        "\n",
        "u_GD, count_steps_GD = gradient_descent(u_old, A, f, r, eps)"
      ],
      "metadata": {
        "id": "b4D2M7TccDBe"
      },
      "execution_count": null,
      "outputs": []
    },
    {
      "cell_type": "code",
      "source": [
        "print(f\"delta_GD = {error(u_GD, u_ana_values)}\")\n",
        "print(f\"Число шагов: {count_steps_GD}\")"
      ],
      "metadata": {
        "colab": {
          "base_uri": "https://localhost:8080/"
        },
        "id": "ZCyBuHO3cLuf",
        "outputId": "93275b85-48b0-488b-a3d3-dab860ba8200"
      },
      "execution_count": null,
      "outputs": [
        {
          "output_type": "stream",
          "name": "stdout",
          "text": [
            "delta_GD = 0.000977517106549557\n",
            "Число шагов: 2\n"
          ]
        }
      ]
    },
    {
      "cell_type": "markdown",
      "source": [
        "### Двухшаговый градиентный спуск:"
      ],
      "metadata": {
        "id": "CoI2pmfEcMyf"
      }
    },
    {
      "cell_type": "code",
      "source": [
        "def double_step_gradient_descent(u_old, A, f, r, eps):\n",
        "    steps = 1\n",
        "\n",
        "    # Cтартовые значения u и r\n",
        "    u_0 = u_old\n",
        "    r_0 = r\n",
        "\n",
        "    # Подготовка к первому шагу\n",
        "    AT = np.matrix.transpose(A) # не обязательно\n",
        "    AT_r = AT @ r_0\n",
        "    up = np.linalg.norm(AT_r) ** 2\n",
        "    down = np.linalg.norm(A @ AT_r) ** 2\n",
        "\n",
        "    u_1 = u_0 - (up / down) * (AT @ r_0) # делаем шаг для определения u_1\n",
        "\n",
        "    # После определения u_1 переходим к основному шагу алгоритма\n",
        "    r_1 = A @ u_1 - f\n",
        "    AT_r = AT @ r_1\n",
        "\n",
        "    Mat = np.array([[np.linalg.norm(r_1 - r_0) ** 2, np.linalg.norm(AT_r) ** 2],\n",
        "                    [np.linalg.norm(AT_r) ** 2, np.linalg.norm(A @ AT_r) ** 2]])\n",
        "    Vec = np.array([0.,\n",
        "                    np.linalg.norm(AT_r) ** 2])\n",
        "    Ans = np.linalg.pinv(Mat) @ Vec\n",
        "    alpha = Ans[0]\n",
        "    gamma = Ans[1]\n",
        "\n",
        "    u_2 = u_1 - alpha * (u_1 - u_0) - gamma * AT_r # второй шаг (основной)\n",
        "\n",
        "    norm_diff_u = np.linalg.norm(u_2 - u_1)\n",
        "    norm_f = np.linalg.norm(f)\n",
        "\n",
        "    if (norm_diff_u / norm_f) >= eps:\n",
        "        while (norm_diff_u / norm_f) >= eps:\n",
        "            steps += 1\n",
        "\n",
        "            u_0 = u_1\n",
        "            u_1 = u_2\n",
        "\n",
        "            r_0 = r_1\n",
        "            r_1 = A @ u_1 - f\n",
        "            AT_r = AT @ r_1\n",
        "\n",
        "            Mat = np.array([[np.linalg.norm(r_1 - r_0) ** 2, np.linalg.norm(AT_r) ** 2],\n",
        "                            [np.linalg.norm(AT_r) ** 2, np.linalg.norm(A @ AT_r) ** 2]])\n",
        "            Vec = np.array([0.,\n",
        "                            np.linalg.norm(AT_r) ** 2])\n",
        "            Ans = np.linalg.pinv(Mat) @ Vec\n",
        "            alpha = Ans[0]\n",
        "            gamma = Ans[1]\n",
        "\n",
        "            u_2 = u_1 - alpha * (u_1 - u_0) - gamma * AT_r\n",
        "\n",
        "            norm_diff_u = np.linalg.norm(u_2 - u_1)\n",
        "    else:\n",
        "        pass\n",
        "\n",
        "    return u_2, steps\n",
        "\n",
        "# Для двухшагового градиентного спуска\n",
        "r = A @ u_old - f\n",
        "\n",
        "u_DSGD, count_steps_DSGD = double_step_gradient_descent(u_old, A, f, r, eps)"
      ],
      "metadata": {
        "id": "FFzOSd2DcWYJ"
      },
      "execution_count": null,
      "outputs": []
    },
    {
      "cell_type": "code",
      "source": [
        "print(f\"delta_DSGD = {error(u_DSGD, u_ana_values)}\")\n",
        "print(f\"Число шагов: {count_steps_DSGD}\")"
      ],
      "metadata": {
        "colab": {
          "base_uri": "https://localhost:8080/"
        },
        "id": "PSNLZl1JccFp",
        "outputId": "a9ec8f2a-2435-421a-8689-e35baf6862e2"
      },
      "execution_count": null,
      "outputs": [
        {
          "output_type": "stream",
          "name": "stdout",
          "text": [
            "delta_DSGD = 0.000977517106549557\n",
            "Число шагов: 1\n"
          ]
        }
      ]
    },
    {
      "cell_type": "code",
      "source": [
        "Methods_table = {'BGSM': (error(u_BGSM, u_ana_values), count_steps_BGSM),\n",
        "                 'DSGD': (error(u_DSGD, u_ana_values), count_steps_DSGD),\n",
        "                 'GD': (error(u_GD, u_ana_values), count_steps_GD),\n",
        "                 'MSI': (error(u_MSI, u_ana_values), count_steps_MSI)}\n",
        "\n",
        "print(Methods_table)\n",
        "\n",
        "Methods_df = pd.DataFrame.from_dict(Methods_table)\n",
        "print(Methods_df)"
      ],
      "metadata": {
        "colab": {
          "base_uri": "https://localhost:8080/"
        },
        "id": "-LQUkCDtcf4Z",
        "outputId": "aff000dc-9dcf-4cc1-81df-0e3c682efcb4"
      },
      "execution_count": null,
      "outputs": [
        {
          "output_type": "stream",
          "name": "stdout",
          "text": [
            "{'BGSM': (0.0010086934697387361, 3), 'DSGD': (0.000977517106549557, 1), 'GD': (0.000977517106549557, 2), 'MSI': (0.0009775170772835684, 22)}\n",
            "       BGSM      DSGD        GD        MSI\n",
            "0  0.001009  0.000978  0.000978   0.000978\n",
            "1  3.000000  1.000000  2.000000  22.000000\n"
          ]
        }
      ]
    },
    {
      "cell_type": "markdown",
      "source": [
        "Интересное замечание между делом. На размерности N=8 BGSM отрабатывает заметно хуже остальных в плане ошибки. А вот на отличных от 8 он работает не хуже остальных. Интересно..."
      ],
      "metadata": {
        "id": "NKGMsI-OiuuG"
      }
    },
    {
      "cell_type": "code",
      "source": [
        "plt.plot(u_BGSM, c='yellow', label='BGSM')\n",
        "plt.plot(u_DSGD, c='orange', label='DSGD')\n",
        "plt.plot(u_GD, c='red', label='GD')\n",
        "plt.plot(u_MSI, c='purple', label='MSI')\n",
        "plt.plot(u_ana_values, c='green', label='Аналитическое решение')\n",
        "plt.title('Графики численного и аналитического решений интура')\n",
        "plt.xlabel('x')\n",
        "plt.ylabel('u(x)')\n",
        "plt.legend()"
      ],
      "metadata": {
        "colab": {
          "base_uri": "https://localhost:8080/",
          "height": 495
        },
        "id": "7sHevY_7c_-G",
        "outputId": "ef80d7d9-bee6-4adf-b31f-21fd4783cc59"
      },
      "execution_count": null,
      "outputs": [
        {
          "output_type": "execute_result",
          "data": {
            "text/plain": [
              "<matplotlib.legend.Legend at 0x785880348be0>"
            ]
          },
          "metadata": {},
          "execution_count": 34
        },
        {
          "output_type": "display_data",
          "data": {
            "text/plain": [
              "<Figure size 640x480 with 1 Axes>"
            ],
            "image/png": "[encoded data removed]"
          },
          "metadata": {}
        }
      ]
    }
  ]
}